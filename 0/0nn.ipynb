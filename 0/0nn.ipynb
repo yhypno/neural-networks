{
 "cells": [
  {
   "cell_type": "code",
   "execution_count": 7,
   "id": "00150b02-ab2a-4411-a9d5-5cc0dea2ae75",
   "metadata": {},
   "outputs": [],
   "source": [
    "import math\n",
    "import numpy as np\n",
    "import matplotlib.pyplot as plt\n",
    "%matplotlib inline"
   ]
  },
  {
   "cell_type": "code",
   "execution_count": 9,
   "id": "0346a64a-012f-4dcb-9d41-7fd5522b9166",
   "metadata": {},
   "outputs": [],
   "source": [
    "def f(x):\n",
    "    return 6*x**3 + 2*x**2 + x"
   ]
  },
  {
   "cell_type": "code",
   "execution_count": 14,
   "id": "f97766f4-e251-45ee-8064-f14341455880",
   "metadata": {},
   "outputs": [],
   "source": [
    "xs = np.arange(-5,5, 0.15)\n",
    "ys = f(xs)"
   ]
  },
  {
   "cell_type": "code",
   "execution_count": 15,
   "id": "2d90004b-9172-42d5-bd3f-55dc60d4340e",
   "metadata": {},
   "outputs": [
    {
     "data": {
      "text/plain": [
       "[<matplotlib.lines.Line2D at 0x7f6c4b19e050>]"
      ]
     },
     "execution_count": 15,
     "metadata": {},
     "output_type": "execute_result"
    },
    {
     "data": {
      "image/png": "[encoded data removed]",
      "text/plain": [
       "<Figure size 640x480 with 1 Axes>"
      ]
     },
     "metadata": {},
     "output_type": "display_data"
    }
   ],
   "source": [
    "plt.plot(xs, ys)"
   ]
  },
  {
   "cell_type": "code",
   "execution_count": 29,
   "id": "a5eb1b7d-5c5a-40e6-99b9-af6fa519a157",
   "metadata": {},
   "outputs": [
    {
     "data": {
      "text/plain": [
       "-5399850.00147"
      ]
     },
     "execution_count": 29,
     "metadata": {},
     "output_type": "execute_result"
    }
   ],
   "source": [
    "h = 0.1 * (10 ** 6)\n",
    "(f(-3 + h) - f(h))/h"
   ]
  },
  {
   "cell_type": "code",
   "execution_count": 3,
   "id": "71f2d84a-aaf1-4fe2-a121-136b03de34d5",
   "metadata": {},
   "outputs": [],
   "source": [
    "class Value:\n",
    "\n",
    "    def __init__(self, data, _check=(), _op='', label=\"\"):\n",
    "        self.data = data\n",
    "        self._prev = set(_check)\n",
    "        self.grad = 0.0\n",
    "        self._op = _op\n",
    "        self.label = label\n",
    "\n",
    "    def __repr__(self):\n",
    "        return f\"Value(data={self.data})\"\n",
    "\n",
    "    def __add__(self, other):\n",
    "        return Value(self.data + other.data, (self, other), '+')\n",
    "\n",
    "    def __mul__(self, other):\n",
    "        return Value(self.data * other.data, (self, other), '*')\n"
   ]
  },
  {
   "cell_type": "code",
   "execution_count": 4,
   "id": "7e839de8-97ea-4326-a3f7-00465cb8bec9",
   "metadata": {},
   "outputs": [
    {
     "data": {
      "text/plain": [
       "Value(data=3430)"
      ]
     },
     "execution_count": 4,
     "metadata": {},
     "output_type": "execute_result"
    }
   ],
   "source": [
    "x = Value(3, label=\"x\")\n",
    "y = Value(4, label=\"y\")\n",
    "z = x+y; z.lable = \"z\"\n",
    "t = Value(69, label=\"t\")\n",
    "d = (z*t) + (x+y); d.label= \"d\"\n",
    "L = z*d; L.label = \"L\"\n",
    "L"
   ]
  },
  {
   "cell_type": "code",
   "execution_count": 5,
   "id": "a78592e5-4265-4882-b47a-c886966cc2ab",
   "metadata": {},
   "outputs": [],
   "source": [
    "from graphviz import Digraph\n",
    "\n",
    "def trace(root):\n",
    "  # builds a set of all nodes and edges in a graph\n",
    "  nodes, edges = set(), set()\n",
    "  def build(v):\n",
    "    if v not in nodes:\n",
    "      nodes.add(v)\n",
    "      for child in v._prev:\n",
    "        edges.add((child, v))\n",
    "        build(child)\n",
    "  build(root)\n",
    "  return nodes, edges\n",
    "\n",
    "def draw_dot(root):\n",
    "  dot = Digraph(format='svg', graph_attr={'rankdir': 'LR'}) # LR = left to right\n",
    "  \n",
    "  nodes, edges = trace(root)\n",
    "  for n in nodes:\n",
    "    uid = str(id(n))\n",
    "    # for any value in the graph, create a rectangular ('record') node for it\n",
    "    dot.node(name = uid, label = \"{ %s | data %.4f | grad %.4f }\" % (n.label, n.data, n.grad), shape='record')\n",
    "    if n._op:\n",
    "      # if this value is a result of some operation, create an op node for it\n",
    "      dot.node(name = uid + n._op, label = n._op)\n",
    "      # and connect this node to it\n",
    "      dot.edge(uid + n._op, uid)\n",
    "\n",
    "  for n1, n2 in edges:\n",
    "    # connect n1 to the op node of n2\n",
    "    dot.edge(str(id(n1)), str(id(n2)) + n2._op)\n",
    "\n",
    "  return dot"
   ]
  },
  {
   "cell_type": "code",
   "execution_count": 6,
   "id": "3d573a20-ed7b-4304-b39c-831993140849",
   "metadata": {},
   "outputs": [
    {
     "data": {
      "image/svg+xml": [
       "<?xml version=\"1.0\" encoding=\"UTF-8\" standalone=\"no\"?>\n",
       "<!DOCTYPE svg PUBLIC \"-//W3C//DTD SVG 1.1//EN\"\n",
       " \"http://www.w3.org/Graphics/SVG/1.1/DTD/svg11.dtd\">\n",
       "<!-- Generated by graphviz version 2.43.0 (0)\n",
       " -->\n",
       "<!-- Title: %3 Pages: 1 -->\n",
       "<svg width=\"1908pt\" height=\"147pt\"\n",
       " viewBox=\"0.00 0.00 1908.00 147.00\" xmlns=\"http://www.w3.org/2000/svg\" xmlns:xlink=\"http://www.w3.org/1999/xlink\">\n",
       "<g id=\"graph0\" class=\"graph\" transform=\"scale(1 1) rotate(0) translate(4 143)\">\n",
       "<title>%3</title>\n",
       "<polygon fill=\"white\" stroke=\"transparent\" points=\"-4,4 -4,-143 1904,-143 1904,4 -4,4\"/>\n",
       "<!-- 140166071022160 -->\n",
       "<g id=\"node1\" class=\"node\">\n",
       "<title>140166071022160</title>\n",
       "<polygon fill=\"none\" stroke=\"black\" points=\"0,-78.5 0,-114.5 231,-114.5 231,-78.5 0,-78.5\"/>\n",
       "<text text-anchor=\"middle\" x=\"12.5\" y=\"-92.8\" font-family=\"Times,serif\" font-size=\"14.00\">y</text>\n",
       "<polyline fill=\"none\" stroke=\"black\" points=\"25,-78.5 25,-114.5 \"/>\n",
       "<text text-anchor=\"middle\" x=\"76\" y=\"-92.8\" font-family=\"Times,serif\" font-size=\"14.00\">data 4.0000</text>\n",
       "<polyline fill=\"none\" stroke=\"black\" points=\"127,-78.5 127,-114.5 \"/>\n",
       "<text text-anchor=\"middle\" x=\"179\" y=\"-92.8\" font-family=\"Times,serif\" font-size=\"14.00\">grad 0.0000</text>\n",
       "</g>\n",
       "<!-- 140166071022736+ -->\n",
       "<g id=\"node5\" class=\"node\">\n",
       "<title>140166071022736+</title>\n",
       "<ellipse fill=\"none\" stroke=\"black\" cx=\"294\" cy=\"-96.5\" rx=\"27\" ry=\"18\"/>\n",
       "<text text-anchor=\"middle\" x=\"294\" y=\"-92.8\" font-family=\"Times,serif\" font-size=\"14.00\">+</text>\n",
       "</g>\n",
       "<!-- 140166071022160&#45;&gt;140166071022736+ -->\n",
       "<g id=\"edge8\" class=\"edge\">\n",
       "<title>140166071022160&#45;&gt;140166071022736+</title>\n",
       "<path fill=\"none\" stroke=\"black\" d=\"M231.27,-96.5C240.32,-96.5 248.97,-96.5 256.76,-96.5\"/>\n",
       "<polygon fill=\"black\" stroke=\"black\" points=\"256.84,-100 266.84,-96.5 256.84,-93 256.84,-100\"/>\n",
       "</g>\n",
       "<!-- 140166071016144+ -->\n",
       "<g id=\"node10\" class=\"node\">\n",
       "<title>140166071016144+</title>\n",
       "<ellipse fill=\"none\" stroke=\"black\" cx=\"294\" cy=\"-41.5\" rx=\"27\" ry=\"18\"/>\n",
       "<text text-anchor=\"middle\" x=\"294\" y=\"-37.8\" font-family=\"Times,serif\" font-size=\"14.00\">+</text>\n",
       "</g>\n",
       "<!-- 140166071022160&#45;&gt;140166071016144+ -->\n",
       "<g id=\"edge11\" class=\"edge\">\n",
       "<title>140166071022160&#45;&gt;140166071016144+</title>\n",
       "<path fill=\"none\" stroke=\"black\" d=\"M197.69,-78.47C208.97,-75.44 220.33,-72.1 231,-68.5 241.43,-64.98 252.53,-60.42 262.42,-56.05\"/>\n",
       "<polygon fill=\"black\" stroke=\"black\" points=\"264.17,-59.1 271.83,-51.79 261.28,-52.73 264.17,-59.1\"/>\n",
       "</g>\n",
       "<!-- 140166071018576 -->\n",
       "<g id=\"node2\" class=\"node\">\n",
       "<title>140166071018576</title>\n",
       "<polygon fill=\"none\" stroke=\"black\" points=\"894,-47.5 894,-83.5 1139,-83.5 1139,-47.5 894,-47.5\"/>\n",
       "<text text-anchor=\"middle\" x=\"904.5\" y=\"-61.8\" font-family=\"Times,serif\" font-size=\"14.00\"> </text>\n",
       "<polyline fill=\"none\" stroke=\"black\" points=\"915,-47.5 915,-83.5 \"/>\n",
       "<text text-anchor=\"middle\" x=\"975\" y=\"-61.8\" font-family=\"Times,serif\" font-size=\"14.00\">data 483.0000</text>\n",
       "<polyline fill=\"none\" stroke=\"black\" points=\"1035,-47.5 1035,-83.5 \"/>\n",
       "<text text-anchor=\"middle\" x=\"1087\" y=\"-61.8\" font-family=\"Times,serif\" font-size=\"14.00\">grad 0.0000</text>\n",
       "</g>\n",
       "<!-- 140166071016080+ -->\n",
       "<g id=\"node7\" class=\"node\">\n",
       "<title>140166071016080+</title>\n",
       "<ellipse fill=\"none\" stroke=\"black\" cx=\"1202\" cy=\"-65.5\" rx=\"27\" ry=\"18\"/>\n",
       "<text text-anchor=\"middle\" x=\"1202\" y=\"-61.8\" font-family=\"Times,serif\" font-size=\"14.00\">+</text>\n",
       "</g>\n",
       "<!-- 140166071018576&#45;&gt;140166071016080+ -->\n",
       "<g id=\"edge6\" class=\"edge\">\n",
       "<title>140166071018576&#45;&gt;140166071016080+</title>\n",
       "<path fill=\"none\" stroke=\"black\" d=\"M1139.13,-65.5C1148.26,-65.5 1156.95,-65.5 1164.78,-65.5\"/>\n",
       "<polygon fill=\"black\" stroke=\"black\" points=\"1164.88,-69 1174.88,-65.5 1164.88,-62 1164.88,-69\"/>\n",
       "</g>\n",
       "<!-- 140166071018576* -->\n",
       "<g id=\"node3\" class=\"node\">\n",
       "<title>140166071018576*</title>\n",
       "<ellipse fill=\"none\" stroke=\"black\" cx=\"744.5\" cy=\"-65.5\" rx=\"27\" ry=\"18\"/>\n",
       "<text text-anchor=\"middle\" x=\"744.5\" y=\"-61.8\" font-family=\"Times,serif\" font-size=\"14.00\">*</text>\n",
       "</g>\n",
       "<!-- 140166071018576*&#45;&gt;140166071018576 -->\n",
       "<g id=\"edge1\" class=\"edge\">\n",
       "<title>140166071018576*&#45;&gt;140166071018576</title>\n",
       "<path fill=\"none\" stroke=\"black\" d=\"M771.88,-65.5C798.35,-65.5 841.19,-65.5 883.61,-65.5\"/>\n",
       "<polygon fill=\"black\" stroke=\"black\" points=\"883.79,-69 893.79,-65.5 883.79,-62 883.79,-69\"/>\n",
       "</g>\n",
       "<!-- 140166071022736 -->\n",
       "<g id=\"node4\" class=\"node\">\n",
       "<title>140166071022736</title>\n",
       "<polygon fill=\"none\" stroke=\"black\" points=\"631,-102.5 631,-138.5 858,-138.5 858,-102.5 631,-102.5\"/>\n",
       "<text text-anchor=\"middle\" x=\"641.5\" y=\"-116.8\" font-family=\"Times,serif\" font-size=\"14.00\"> </text>\n",
       "<polyline fill=\"none\" stroke=\"black\" points=\"652,-102.5 652,-138.5 \"/>\n",
       "<text text-anchor=\"middle\" x=\"703\" y=\"-116.8\" font-family=\"Times,serif\" font-size=\"14.00\">data 7.0000</text>\n",
       "<polyline fill=\"none\" stroke=\"black\" points=\"754,-102.5 754,-138.5 \"/>\n",
       "<text text-anchor=\"middle\" x=\"806\" y=\"-116.8\" font-family=\"Times,serif\" font-size=\"14.00\">grad 0.0000</text>\n",
       "</g>\n",
       "<!-- 140166071022736&#45;&gt;140166071016080+ -->\n",
       "<g id=\"edge15\" class=\"edge\">\n",
       "<title>140166071022736&#45;&gt;140166071016080+</title>\n",
       "<path fill=\"none\" stroke=\"black\" d=\"M858.25,-123.29C937.84,-122.72 1046.36,-116.8 1139,-93.5 1150.02,-90.73 1161.52,-86.08 1171.58,-81.36\"/>\n",
       "<polygon fill=\"black\" stroke=\"black\" points=\"1173.28,-84.43 1180.72,-76.88 1170.2,-78.14 1173.28,-84.43\"/>\n",
       "</g>\n",
       "<!-- 140166071022736+&#45;&gt;140166071022736 -->\n",
       "<g id=\"edge2\" class=\"edge\">\n",
       "<title>140166071022736+&#45;&gt;140166071022736</title>\n",
       "<path fill=\"none\" stroke=\"black\" d=\"M320.93,-98.77C332.03,-99.7 345.15,-100.73 357,-101.5 445.22,-107.22 544.87,-112.08 620.89,-115.46\"/>\n",
       "<polygon fill=\"black\" stroke=\"black\" points=\"620.83,-118.96 630.98,-115.9 621.14,-111.96 620.83,-118.96\"/>\n",
       "</g>\n",
       "<!-- 140166071016080 -->\n",
       "<g id=\"node6\" class=\"node\">\n",
       "<title>140166071016080</title>\n",
       "<polygon fill=\"none\" stroke=\"black\" points=\"1265,-47.5 1265,-83.5 1515,-83.5 1515,-47.5 1265,-47.5\"/>\n",
       "<text text-anchor=\"middle\" x=\"1278\" y=\"-61.8\" font-family=\"Times,serif\" font-size=\"14.00\">d</text>\n",
       "<polyline fill=\"none\" stroke=\"black\" points=\"1291,-47.5 1291,-83.5 \"/>\n",
       "<text text-anchor=\"middle\" x=\"1351\" y=\"-61.8\" font-family=\"Times,serif\" font-size=\"14.00\">data 490.0000</text>\n",
       "<polyline fill=\"none\" stroke=\"black\" points=\"1411,-47.5 1411,-83.5 \"/>\n",
       "<text text-anchor=\"middle\" x=\"1463\" y=\"-61.8\" font-family=\"Times,serif\" font-size=\"14.00\">grad 0.0000</text>\n",
       "</g>\n",
       "<!-- 140166071016784* -->\n",
       "<g id=\"node12\" class=\"node\">\n",
       "<title>140166071016784*</title>\n",
       "<ellipse fill=\"none\" stroke=\"black\" cx=\"1578\" cy=\"-41.5\" rx=\"27\" ry=\"18\"/>\n",
       "<text text-anchor=\"middle\" x=\"1578\" y=\"-37.8\" font-family=\"Times,serif\" font-size=\"14.00\">*</text>\n",
       "</g>\n",
       "<!-- 140166071016080&#45;&gt;140166071016784* -->\n",
       "<g id=\"edge13\" class=\"edge\">\n",
       "<title>140166071016080&#45;&gt;140166071016784*</title>\n",
       "<path fill=\"none\" stroke=\"black\" d=\"M1515.06,-49.49C1524.32,-48.3 1533.11,-47.16 1541.01,-46.14\"/>\n",
       "<polygon fill=\"black\" stroke=\"black\" points=\"1541.71,-49.58 1551.18,-44.83 1540.82,-42.64 1541.71,-49.58\"/>\n",
       "</g>\n",
       "<!-- 140166071016080+&#45;&gt;140166071016080 -->\n",
       "<g id=\"edge3\" class=\"edge\">\n",
       "<title>140166071016080+&#45;&gt;140166071016080</title>\n",
       "<path fill=\"none\" stroke=\"black\" d=\"M1229.25,-65.5C1236.61,-65.5 1245.14,-65.5 1254.36,-65.5\"/>\n",
       "<polygon fill=\"black\" stroke=\"black\" points=\"1254.61,-69 1264.61,-65.5 1254.61,-62 1254.61,-69\"/>\n",
       "</g>\n",
       "<!-- 140166326573776 -->\n",
       "<g id=\"node8\" class=\"node\">\n",
       "<title>140166326573776</title>\n",
       "<polygon fill=\"none\" stroke=\"black\" points=\"0,-23.5 0,-59.5 231,-59.5 231,-23.5 0,-23.5\"/>\n",
       "<text text-anchor=\"middle\" x=\"12.5\" y=\"-37.8\" font-family=\"Times,serif\" font-size=\"14.00\">x</text>\n",
       "<polyline fill=\"none\" stroke=\"black\" points=\"25,-23.5 25,-59.5 \"/>\n",
       "<text text-anchor=\"middle\" x=\"76\" y=\"-37.8\" font-family=\"Times,serif\" font-size=\"14.00\">data 3.0000</text>\n",
       "<polyline fill=\"none\" stroke=\"black\" points=\"127,-23.5 127,-59.5 \"/>\n",
       "<text text-anchor=\"middle\" x=\"179\" y=\"-37.8\" font-family=\"Times,serif\" font-size=\"14.00\">grad 0.0000</text>\n",
       "</g>\n",
       "<!-- 140166326573776&#45;&gt;140166071022736+ -->\n",
       "<g id=\"edge12\" class=\"edge\">\n",
       "<title>140166326573776&#45;&gt;140166071022736+</title>\n",
       "<path fill=\"none\" stroke=\"black\" d=\"M201.13,-59.51C211.28,-62.24 221.43,-65.24 231,-68.5 241.68,-72.13 253.01,-76.95 263.03,-81.56\"/>\n",
       "<polygon fill=\"black\" stroke=\"black\" points=\"261.64,-84.77 272.17,-85.88 264.63,-78.44 261.64,-84.77\"/>\n",
       "</g>\n",
       "<!-- 140166326573776&#45;&gt;140166071016144+ -->\n",
       "<g id=\"edge14\" class=\"edge\">\n",
       "<title>140166326573776&#45;&gt;140166071016144+</title>\n",
       "<path fill=\"none\" stroke=\"black\" d=\"M231.27,-41.5C240.32,-41.5 248.97,-41.5 256.76,-41.5\"/>\n",
       "<polygon fill=\"black\" stroke=\"black\" points=\"256.84,-45 266.84,-41.5 256.84,-38 256.84,-45\"/>\n",
       "</g>\n",
       "<!-- 140166071016144 -->\n",
       "<g id=\"node9\" class=\"node\">\n",
       "<title>140166071016144</title>\n",
       "<polygon fill=\"none\" stroke=\"black\" points=\"362.5,-0.5 362.5,-36.5 589.5,-36.5 589.5,-0.5 362.5,-0.5\"/>\n",
       "<text text-anchor=\"middle\" x=\"373\" y=\"-14.8\" font-family=\"Times,serif\" font-size=\"14.00\"> </text>\n",
       "<polyline fill=\"none\" stroke=\"black\" points=\"383.5,-0.5 383.5,-36.5 \"/>\n",
       "<text text-anchor=\"middle\" x=\"434.5\" y=\"-14.8\" font-family=\"Times,serif\" font-size=\"14.00\">data 7.0000</text>\n",
       "<polyline fill=\"none\" stroke=\"black\" points=\"485.5,-0.5 485.5,-36.5 \"/>\n",
       "<text text-anchor=\"middle\" x=\"537.5\" y=\"-14.8\" font-family=\"Times,serif\" font-size=\"14.00\">grad 0.0000</text>\n",
       "</g>\n",
       "<!-- 140166071016144&#45;&gt;140166071018576* -->\n",
       "<g id=\"edge9\" class=\"edge\">\n",
       "<title>140166071016144&#45;&gt;140166071018576*</title>\n",
       "<path fill=\"none\" stroke=\"black\" d=\"M579.27,-36.54C624.7,-44.55 675.22,-53.46 708.07,-59.25\"/>\n",
       "<polygon fill=\"black\" stroke=\"black\" points=\"707.63,-62.73 718.09,-61.02 708.85,-55.84 707.63,-62.73\"/>\n",
       "</g>\n",
       "<!-- 140166071016144&#45;&gt;140166071016784* -->\n",
       "<g id=\"edge7\" class=\"edge\">\n",
       "<title>140166071016144&#45;&gt;140166071016784*</title>\n",
       "<path fill=\"none\" stroke=\"black\" d=\"M589.68,-18.5C698.63,-18.5 868.37,-18.5 1015.5,-18.5 1015.5,-18.5 1015.5,-18.5 1203,-18.5 1327.43,-18.5 1474.7,-31.34 1541.22,-37.83\"/>\n",
       "<polygon fill=\"black\" stroke=\"black\" points=\"1540.89,-41.32 1551.19,-38.82 1541.58,-34.35 1540.89,-41.32\"/>\n",
       "</g>\n",
       "<!-- 140166071016144+&#45;&gt;140166071016144 -->\n",
       "<g id=\"edge4\" class=\"edge\">\n",
       "<title>140166071016144+&#45;&gt;140166071016144</title>\n",
       "<path fill=\"none\" stroke=\"black\" d=\"M320.79,-38.2C329.83,-37.05 340.67,-35.66 352.36,-34.17\"/>\n",
       "<polygon fill=\"black\" stroke=\"black\" points=\"352.88,-37.63 362.36,-32.89 351.99,-30.69 352.88,-37.63\"/>\n",
       "</g>\n",
       "<!-- 140166071016784 -->\n",
       "<g id=\"node11\" class=\"node\">\n",
       "<title>140166071016784</title>\n",
       "<polygon fill=\"none\" stroke=\"black\" points=\"1641,-23.5 1641,-59.5 1900,-59.5 1900,-23.5 1641,-23.5\"/>\n",
       "<text text-anchor=\"middle\" x=\"1654\" y=\"-37.8\" font-family=\"Times,serif\" font-size=\"14.00\">L</text>\n",
       "<polyline fill=\"none\" stroke=\"black\" points=\"1667,-23.5 1667,-59.5 \"/>\n",
       "<text text-anchor=\"middle\" x=\"1731.5\" y=\"-37.8\" font-family=\"Times,serif\" font-size=\"14.00\">data 3430.0000</text>\n",
       "<polyline fill=\"none\" stroke=\"black\" points=\"1796,-23.5 1796,-59.5 \"/>\n",
       "<text text-anchor=\"middle\" x=\"1848\" y=\"-37.8\" font-family=\"Times,serif\" font-size=\"14.00\">grad 0.0000</text>\n",
       "</g>\n",
       "<!-- 140166071016784*&#45;&gt;140166071016784 -->\n",
       "<g id=\"edge5\" class=\"edge\">\n",
       "<title>140166071016784*&#45;&gt;140166071016784</title>\n",
       "<path fill=\"none\" stroke=\"black\" d=\"M1605.09,-41.5C1612.58,-41.5 1621.3,-41.5 1630.75,-41.5\"/>\n",
       "<polygon fill=\"black\" stroke=\"black\" points=\"1630.84,-45 1640.84,-41.5 1630.84,-38 1630.84,-45\"/>\n",
       "</g>\n",
       "<!-- 140166071015888 -->\n",
       "<g id=\"node13\" class=\"node\">\n",
       "<title>140166071015888</title>\n",
       "<polygon fill=\"none\" stroke=\"black\" points=\"357,-55.5 357,-91.5 595,-91.5 595,-55.5 357,-55.5\"/>\n",
       "<text text-anchor=\"middle\" x=\"368.5\" y=\"-69.8\" font-family=\"Times,serif\" font-size=\"14.00\">t</text>\n",
       "<polyline fill=\"none\" stroke=\"black\" points=\"380,-55.5 380,-91.5 \"/>\n",
       "<text text-anchor=\"middle\" x=\"435.5\" y=\"-69.8\" font-family=\"Times,serif\" font-size=\"14.00\">data 69.0000</text>\n",
       "<polyline fill=\"none\" stroke=\"black\" points=\"491,-55.5 491,-91.5 \"/>\n",
       "<text text-anchor=\"middle\" x=\"543\" y=\"-69.8\" font-family=\"Times,serif\" font-size=\"14.00\">grad 0.0000</text>\n",
       "</g>\n",
       "<!-- 140166071015888&#45;&gt;140166071018576* -->\n",
       "<g id=\"edge10\" class=\"edge\">\n",
       "<title>140166071015888&#45;&gt;140166071018576*</title>\n",
       "<path fill=\"none\" stroke=\"black\" d=\"M595.05,-69.96C635.73,-68.74 678.31,-67.46 707.39,-66.58\"/>\n",
       "<polygon fill=\"black\" stroke=\"black\" points=\"707.57,-70.08 717.46,-66.28 707.36,-63.08 707.57,-70.08\"/>\n",
       "</g>\n",
       "</g>\n",
       "</svg>\n"
      ],
      "text/plain": [
       "<graphviz.graphs.Digraph at 0x7f7af4df2510>"
      ]
     },
     "execution_count": 6,
     "metadata": {},
     "output_type": "execute_result"
    }
   ],
   "source": [
    "draw_dot(L)"
   ]
  },
  {
   "cell_type": "code",
   "execution_count": 1,
   "id": "c50bcc84-9403-4a08-a280-d74858aa5248",
   "metadata": {},
   "outputs": [
    {
     "ename": "NameError",
     "evalue": "name 'a' is not defined",
     "output_type": "error",
     "traceback": [
      "\u001b[0;31m---------------------------------------------------------------------------\u001b[0m",
      "\u001b[0;31mNameError\u001b[0m                                 Traceback (most recent call last)",
      "Cell \u001b[0;32mIn[1], line 1\u001b[0m\n\u001b[0;32m----> 1\u001b[0m \u001b[43ma\u001b[49m\u001b[38;5;241m.\u001b[39mdata \u001b[38;5;241m+\u001b[39m\u001b[38;5;241m=\u001b[39m \u001b[38;5;241m0.01\u001b[39m \u001b[38;5;241m*\u001b[39m a\u001b[38;5;241m.\u001b[39mgrad\n\u001b[1;32m      2\u001b[0m b\u001b[38;5;241m.\u001b[39mdata \u001b[38;5;241m+\u001b[39m\u001b[38;5;241m=\u001b[39m \u001b[38;5;241m0.01\u001b[39m \u001b[38;5;241m*\u001b[39m b\u001b[38;5;241m.\u001b[39mgrad\n\u001b[1;32m      3\u001b[0m c\u001b[38;5;241m.\u001b[39mdata \u001b[38;5;241m+\u001b[39m\u001b[38;5;241m=\u001b[39m \u001b[38;5;241m0.01\u001b[39m \u001b[38;5;241m*\u001b[39m c\u001b[38;5;241m.\u001b[39mgrad\n",
      "\u001b[0;31mNameError\u001b[0m: name 'a' is not defined"
     ]
    }
   ],
   "source": [
    "a.data += 0.01 * a.grad\n",
    "b.data += 0.01 * b.grad\n",
    "c.data += 0.01 * c.grad\n",
    "f.data += 0.01 * f.grad\n",
    "\n",
    "e = a * b\n",
    "d = e + c\n",
    "L = d * f\n",
    "\n",
    "print(L.data)\n"
   ]
  },
  {
   "cell_type": "code",
   "execution_count": null,
   "id": "8ff229f2-570c-4e5a-9976-0685dbff2e1c",
   "metadata": {},
   "outputs": [],
   "source": []
  }
 ],
 "metadata": {
  "kernelspec": {
   "display_name": "Python 3 (ipykernel)",
   "language": "python",
   "name": "python3"
  },
  "language_info": {
   "codemirror_mode": {
    "name": "ipython",
    "version": 3
   },
   "file_extension": ".py",
   "mimetype": "text/x-python",
   "name": "python",
   "nbconvert_exporter": "python",
   "pygments_lexer": "ipython3",
   "version": "3.11.2"
  }
 },
 "nbformat": 4,
 "nbformat_minor": 5
}
